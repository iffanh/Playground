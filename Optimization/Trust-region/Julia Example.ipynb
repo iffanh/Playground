{
 "cells": [
  {
   "cell_type": "code",
   "execution_count": null,
   "id": "31dedefc",
   "metadata": {},
   "outputs": [],
   "source": [
    "using Jutul, JutulDarcy, Plots\n",
    "nx = ny = 10\n",
    "nz = 2\n",
    "day = 3600*24\n",
    "bar = 1e5\n",
    "g = CartesianMesh((nx, ny, nz), (2000.0, 1500.0, 50.0))\n",
    "Darcy = 9.869232667160130e-13\n",
    "K = repeat([0.1*Darcy], 1, number_of_cells(g))\n",
    "res = discretized_domain_tpfv_flow(tpfv_geometry(g), porosity = 0.1, permeability = K)\n",
    "# Vertical well in (1, 1, *), producer in (nx, ny, 1)\n",
    "P = setup_vertical_well(g, K, 1, 1, name = :Producer)\n",
    "I = setup_well(g, K, [(nx, ny, 1)], name = :Injector)\n",
    "# Set up a two-phase immiscible system\n",
    "phases = (AqueousPhase(), VaporPhase())\n",
    "rhoWS = 1000.0; rhoGS = 700.0\n",
    "rhoS = [rhoWS, rhoGS]\n",
    "sys = ImmiscibleSystem(phases, reference_densities = rhoS)\n",
    "model, parameters = setup_reservoir_model(res, sys, wells = [I, P])\n",
    "# Replace the density function with our custom version for wells and reservoir\n",
    "c = [1e-6/bar, 1e-5/bar]\n",
    "ρ = ConstantCompressibilityDensities(p_ref = 1*bar, density_ref = rhoS, compressibility = c)\n",
    "replace_variables!(model, PhaseMassDensities = ρ)\n",
    "# Set up report time-steps, five years with 30 days each\n",
    "dt = repeat([30.0]*day, 12*5)\n",
    "# Inject two full pore-volumes (at reference conditions) of gas\n",
    "rate_target = TotalRateTarget(2.0*sum(pore_volume(model))/sum(dt))\n",
    "bhp_target = BottomHolePressureTarget(50*bar)\n",
    "controls = Dict(:Injector => InjectorControl(rate_target, [0.0, 1.0], density = rhoGS),\n",
    "                :Producer => ProducerControl(bhp_target))\n",
    "# Wrap forces and initialize the state\n",
    "forces = setup_reservoir_forces(model, control = controls)\n",
    "state0 = setup_reservoir_state(model, Pressure = 150*bar, Saturations = [1.0, 0.0])\n",
    "sim, config = setup_reservoir_simulator(model, state0, parameters)\n",
    "states, reports = simulate!(sim, dt, forces = forces, config = config)\n",
    "# Get output and plot results\n",
    "wo = full_well_outputs(model, states, forces)\n",
    "T = report_times(reports)./day\n",
    "qgs = abs.(wo[:Producer][Symbol(\"Surface gas rate\")])\n",
    "qws = abs.(wo[:Producer][Symbol(\"Surface water rate\")])\n",
    "plt = plot(T, qgs, xlabel = \"Days\", ylabel=\"m³/s\", label = \"Gas rate\")\n",
    "plot!(T, qws, label = \"Water rate\")\n",
    "display(plt)"
   ]
  }
 ],
 "metadata": {
  "kernelspec": {
   "display_name": "Julia 1.8.1",
   "language": "julia",
   "name": "julia-1.8"
  },
  "language_info": {
   "file_extension": ".jl",
   "mimetype": "application/julia",
   "name": "julia",
   "version": "1.8.1"
  }
 },
 "nbformat": 4,
 "nbformat_minor": 5
}
