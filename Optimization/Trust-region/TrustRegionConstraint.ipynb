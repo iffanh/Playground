{
 "cells": [
  {
   "cell_type": "code",
   "execution_count": null,
   "id": "d102d406",
   "metadata": {},
   "outputs": [],
   "source": [
    "from src.trust_region_sqp import TrustRegionSQPFilter\n",
    "import numpy as np\n"
   ]
  },
  {
   "cell_type": "code",
   "execution_count": null,
   "id": "ab47ddff",
   "metadata": {},
   "outputs": [],
   "source": [
    "## Constants\n",
    "\n",
    "constants = dict()\n",
    "constants[\"gamma_0\"] = 0.1\n",
    "constants[\"gamma_1\"] = 0.5\n",
    "constants[\"gamma_2\"] = 2.0\n",
    "constants[\"eta_1\"] = 0.01\n",
    "constants[\"eta_2\"] = 0.9\n",
    "constants[\"mu\"] = 0.01\n",
    "constants[\"gamma_vartheta\"] = 1E-4 \n",
    "constants[\"kappa_vartheta\"] = 1E-4\n",
    "constants[\"kappa_radius\"] = 0.7\n",
    "constants[\"kappa_mu\"] = 100\n",
    "constants[\"kappa_tmd\"] = 0.01\n",
    "\n",
    "constants[\"init_radius\"] = 1.\n",
    "constants[\"L_threshold\"] = 1.2\n",
    "\n",
    "dataset = np.array([[0.0, 0.0], [1.0, 0.0], [0.0, 1.0], [-1.0, 0.0], [1.0, 1.0]], dtype=np.float32).T + np.array([[2.1], [2.2]], dtype=np.float32)\n",
    "\n",
    "def cf(x:np.ndarray) -> np.ndarray: # Rosenbrock function: OF\n",
    "    return 1*(x[1]-x[0]**2)**2+((x[0]-1)**2)/100\n",
    "\n",
    "def eq_constraint(x:np.ndarray) -> np.ndarray: # equality constraints\n",
    "    return x[1] - x[0]\n",
    "\n",
    "def ineq_constraint(x:np.ndarray) -> np.ndarray: # equality constraints\n",
    "    return x[1] + x[0]"
   ]
  },
  {
   "cell_type": "code",
   "execution_count": null,
   "id": "e8180041",
   "metadata": {
    "scrolled": true
   },
   "outputs": [],
   "source": [
    "tr = TrustRegionSQPFilter(constants = constants, \n",
    "                          dataset = dataset, \n",
    "                          cf = cf, \n",
    "                          eqcs = [eq_constraint], \n",
    "                          ineqcs = [ineq_constraint])\n",
    "\n",
    "tr.run()"
   ]
  },
  {
   "cell_type": "code",
   "execution_count": null,
   "id": "e9b3a127",
   "metadata": {},
   "outputs": [],
   "source": [
    "%debug"
   ]
  },
  {
   "cell_type": "code",
   "execution_count": null,
   "id": "e9a9e58f",
   "metadata": {},
   "outputs": [],
   "source": [
    "tr.filter_SQP.filters\n"
   ]
  },
  {
   "cell_type": "code",
   "execution_count": null,
   "id": "bb5a72bf",
   "metadata": {},
   "outputs": [],
   "source": [
    "import matplotlib.pyplot as plt\n",
    "\n",
    "\n",
    "x = [i[0] for i in tr.filter_SQP.filters]\n",
    "y = [i[1] for i in tr.filter_SQP.filters]\n",
    "plt.figure()\n",
    "plt.scatter(x[1:], y[1:])"
   ]
  },
  {
   "cell_type": "code",
   "execution_count": null,
   "id": "d72eca53",
   "metadata": {},
   "outputs": [],
   "source": [
    "tr.iterates"
   ]
  },
  {
   "cell_type": "code",
   "execution_count": null,
   "id": "8787e23c",
   "metadata": {},
   "outputs": [],
   "source": []
  }
 ],
 "metadata": {
  "kernelspec": {
   "display_name": "Python 3 (ipykernel)",
   "language": "python",
   "name": "python3"
  },
  "language_info": {
   "codemirror_mode": {
    "name": "ipython",
    "version": 3
   },
   "file_extension": ".py",
   "mimetype": "text/x-python",
   "name": "python",
   "nbconvert_exporter": "python",
   "pygments_lexer": "ipython3",
   "version": "3.8.10"
  }
 },
 "nbformat": 4,
 "nbformat_minor": 5
}
