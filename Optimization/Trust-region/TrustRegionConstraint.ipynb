{
 "cells": [
  {
   "cell_type": "code",
   "execution_count": null,
   "id": "d102d406",
   "metadata": {},
   "outputs": [],
   "source": [
    "from src.trust_region_sqp import TrustRegionSQPFilter\n",
    "import numpy as np"
   ]
  },
  {
   "cell_type": "code",
   "execution_count": null,
   "id": "ab47ddff",
   "metadata": {},
   "outputs": [],
   "source": [
    "## Constants\n",
    "\n",
    "constants = dict()\n",
    "constants[\"gamma_0\"] = 0.1\n",
    "constants[\"gamma_1\"] = 0.5\n",
    "constants[\"gamma_2\"] = 2.0\n",
    "constants[\"eta_1\"] = 0.01\n",
    "constants[\"eta_2\"] = 0.9\n",
    "constants[\"mu\"] = 0.01\n",
    "constants[\"gamma_vartheta\"] = 1E-4 \n",
    "constants[\"kappa_vartheta\"] = 1E-4\n",
    "constants[\"kappa_radius\"] = 0.7\n",
    "constants[\"kappa_mu\"] = 100\n",
    "constants[\"kappa_tmd\"] = 0.01\n",
    "\n",
    "dataset = np.array([[0.0, 0.0], [1.0, 0.0], [0.0, 1.0], [-1.0, 0.0], [1.0, 1.0]]).T + np.array([[2.2], [2.2]])\n",
    "\n",
    "def cf(x:np.ndarray) -> np.ndarray: # Rosenbrock function: OF\n",
    "    return 1*(x[1]-x[0]**2)**2+((x[0]-1)**2)/100\n",
    "\n",
    "def eq_constraint(x:np.ndarray) -> np.ndarray: # equality constraints\n",
    "    return x[1] - x[0]\n",
    "\n",
    "def ineq_constraint(x:np.ndarray) -> np.ndarray: # equality constraints\n",
    "    return x[1] + x[0]"
   ]
  },
  {
   "cell_type": "code",
   "execution_count": null,
   "id": "d116b7cc",
   "metadata": {},
   "outputs": [],
   "source": [
    "tr = TrustRegionSQPFilter(constants = constants, \n",
    "                          dataset = dataset, \n",
    "                          cf = cf, \n",
    "                          eqcs = [eq_constraint], \n",
    "                          ineqcs = [ineq_constraint])\n",
    "print(tr)"
   ]
  }
 ],
 "metadata": {
  "kernelspec": {
   "display_name": "Python 3 (ipykernel)",
   "language": "python",
   "name": "python3"
  },
  "language_info": {
   "codemirror_mode": {
    "name": "ipython",
    "version": 3
   },
   "file_extension": ".py",
   "mimetype": "text/x-python",
   "name": "python",
   "nbconvert_exporter": "python",
   "pygments_lexer": "ipython3",
   "version": "3.8.10"
  }
 },
 "nbformat": 4,
 "nbformat_minor": 5
}
