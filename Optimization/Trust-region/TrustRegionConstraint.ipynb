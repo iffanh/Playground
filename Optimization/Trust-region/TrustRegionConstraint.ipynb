{
 "cells": [
  {
   "cell_type": "code",
   "execution_count": null,
   "id": "d102d406",
   "metadata": {},
   "outputs": [],
   "source": [
    "from IPython.display import display, HTML\n",
    "display(HTML(\"<style>.container { width:100% !important; }</style>\"))\n",
    "\n",
    "from src.trust_region_sqp import TrustRegionSQPFilter\n",
    "import numpy as np\n",
    "import casadi as ca\n"
   ]
  },
  {
   "cell_type": "code",
   "execution_count": null,
   "id": "ab47ddff",
   "metadata": {},
   "outputs": [],
   "source": [
    "## Constants\n",
    "\n",
    "constants = dict()\n",
    "constants[\"gamma_0\"] = 0.5\n",
    "constants[\"gamma_1\"] = 0.9\n",
    "constants[\"gamma_2\"] = 1.2\n",
    "constants[\"eta_1\"] = 1E-4 \n",
    "constants[\"eta_2\"] = 0.5\n",
    "constants[\"mu\"] = 0.01\n",
    "constants[\"gamma_vartheta\"] = 1E-8 #1E-4 \n",
    "constants[\"kappa_vartheta\"] = 1E-4\n",
    "constants[\"kappa_radius\"] = 0.7\n",
    "constants[\"kappa_mu\"] = 100\n",
    "constants[\"kappa_tmd\"] = 0.01\n",
    "\n",
    "constants[\"init_radius\"] = 1.\n",
    "constants[\"stopping_radius\"] = 1E-5\n",
    "constants[\"L_threshold\"] = 1.2\n",
    "\n",
    "dataset = np.array([[0.0, 0.0], [1.0, 0.0], [0.0, 1.0], [-1.0, 0.0], [1.0, 1.0]], dtype=np.float32).T + np.array([[-0.4], [0.2]], dtype=np.float32)\n",
    "# dataset = np.array([[0.0, 0.0], [1.0, 0.0], [0.0, 1.0], [-1.0, 0.0], [1.0, 1.0]], dtype=np.float32).T + np.array([[3.8], [5.2]], dtype=np.float32)\n",
    "# dataset = np.array([[0.0, 0.0], [1.0, 0.0], [0.0, 1.0], [-1.0, 0.0], [1.0, 1.0]], dtype=np.float32).T + np.array([[-1.2], [-0.2]], dtype=np.float32)\n",
    "\n",
    "# def cf(x:np.ndarray) -> np.ndarray: # Rosenbrock function: OF\n",
    "#     return 1*(x[1]-x[0]**2)**2+((x[0]-1)**2)/100\n",
    "\n",
    "def cf(x:np.ndarray) -> np.ndarray:\n",
    "    return 10*(x[0]**2)*(1 + 0.75*np.cos(70*x[0])/12) + np.cos(100*x[0])**2/24 + 2*(x[1]**2)*(1 + 0.75*np.cos(70*x[1])/12) + np.cos(100*x[1])**2/24 + 4*x[0]*x[1]\n",
    "\n",
    "def eq_constraint(x:np.ndarray) -> np.ndarray: # equality constraints\n",
    "    return x[1] - x[0]\n",
    "#     return np.array([0.0])\n",
    "\n",
    "def ineq_constraint(x:np.ndarray) -> np.ndarray: # inequality constraints\n",
    "    return x[1] + x[0] - 2"
   ]
  },
  {
   "cell_type": "code",
   "execution_count": null,
   "id": "e8180041",
   "metadata": {
    "scrolled": true
   },
   "outputs": [],
   "source": [
    "tr = TrustRegionSQPFilter(constants = constants, \n",
    "                          dataset = dataset, \n",
    "                          cf = cf, \n",
    "                          eqcs = [eq_constraint], \n",
    "                          ineqcs = [ineq_constraint])\n",
    "\n",
    "tr.run(max_iter=25)"
   ]
  },
  {
   "cell_type": "code",
   "execution_count": null,
   "id": "e9b3a127",
   "metadata": {},
   "outputs": [],
   "source": [
    "%debug"
   ]
  },
  {
   "cell_type": "code",
   "execution_count": null,
   "id": "8787e23c",
   "metadata": {
    "scrolled": false
   },
   "outputs": [],
   "source": [
    "import matplotlib.pyplot as plt\n",
    "from matplotlib.colors import LogNorm\n",
    "X, Y = np.meshgrid(np.linspace(-3, 3, 100),\n",
    "                    np.linspace(-3, 3, 100))\n",
    "levels = [0.0001, 0.0005, 0.001, 0.005, 0.01, 0.05, 0.1, 0.5, 1, 5, 10, 50]\n",
    "\n",
    "for i in range(len(tr.iterates)):\n",
    "    \n",
    "    center = tr.iterates[i]['y_curr']\n",
    "    radius = tr.iterates[i]['radius']\n",
    "    intx = X - center[0]\n",
    "    inty = Y - center[1]\n",
    "    dist = np.sqrt(intx**2 + inty**2)\n",
    "    intindices = dist <= radius\n",
    "        \n",
    "    func = cf([X, Y])\n",
    "    \n",
    "    func_map = tr.iterates[i]['models'].m_cf.model.model_polynomial.feval.map(X.shape[0]*X.shape[1])\n",
    "    x_dm = ca.DM(X).reshape((1, X.shape[0]*X.shape[1]))\n",
    "    y_dm = ca.DM(Y).reshape((1, X.shape[0]*X.shape[1]))\n",
    "    # print(func_map, vertcat(x_dm, y_dm).shape)\n",
    "    func_dm = func_map(ca.vertcat(x_dm, y_dm))\n",
    "    func_dm = func_dm.reshape((X.shape[0], X.shape[1])).full()\n",
    "    func[intindices] = func_dm[intindices]\n",
    "        \n",
    "    circle1 = plt.Circle(center, radius, color='black', fill=False)\n",
    "    \n",
    "    fig, ax = plt.subplots(1)\n",
    "    ax.add_patch(circle1)\n",
    "    ax.contour(X, Y, func, levels, norm = LogNorm())\n",
    "    x = tr.iterates[i]['Y'][0,:]\n",
    "    y = tr.iterates[i]['Y'][1,:]\n",
    "    plt.scatter(x, y, label=f\"iteration {i}\")\n",
    "    plt.scatter(x[0], y[0], label=f'Best point')\n",
    "    plt.plot([-3,3], [-3,3], 'b-', label=f\"eq constraint\")\n",
    "    plt.plot([-3,3], [5,-1], 'r--', label=f\"ineq constraint\")\n",
    "    plt.legend()\n",
    "    "
   ]
  },
  {
   "cell_type": "code",
   "execution_count": null,
   "id": "bb5a72bf",
   "metadata": {},
   "outputs": [],
   "source": [
    "\n",
    "\n",
    "\n",
    "x = [i[0] for i in tr.filter_SQP.filters]\n",
    "y = [i[1] for i in tr.filter_SQP.filters]\n",
    "plt.figure()\n",
    "plt.scatter(x, y)\n",
    "plt.ylabel(\"vartheta_k\")\n",
    "plt.xlabel(\"f_k\")\n"
   ]
  },
  {
   "cell_type": "code",
   "execution_count": null,
   "id": "d72eca53",
   "metadata": {
    "scrolled": true
   },
   "outputs": [],
   "source": [
    "tr.iterates[-1]"
   ]
  },
  {
   "cell_type": "code",
   "execution_count": null,
   "id": "a59ff3ce",
   "metadata": {},
   "outputs": [],
   "source": [
    "tr.filter_SQP.filters"
   ]
  },
  {
   "cell_type": "code",
   "execution_count": null,
   "id": "bd856f18",
   "metadata": {},
   "outputs": [],
   "source": [
    "a = [True, False, True, True]\n",
    "b = [1, 2, 3, 4]\n",
    "c = [-10, -20, -15, 10]\n",
    "\n",
    "t = list(zip(a, b, c))\n",
    "\n",
    "t.sort(key=lambda x:(x[0], x[2]), reverse=True)\n",
    "\n",
    "t"
   ]
  },
  {
   "cell_type": "code",
   "execution_count": null,
   "id": "ae852506",
   "metadata": {},
   "outputs": [],
   "source": [
    "ca.fmax(1, ca.fabs(-2))"
   ]
  }
 ],
 "metadata": {
  "kernelspec": {
   "display_name": "Python 3 (ipykernel)",
   "language": "python",
   "name": "python3"
  },
  "language_info": {
   "codemirror_mode": {
    "name": "ipython",
    "version": 3
   },
   "file_extension": ".py",
   "mimetype": "text/x-python",
   "name": "python",
   "nbconvert_exporter": "python",
   "pygments_lexer": "ipython3",
   "version": "3.8.10"
  }
 },
 "nbformat": 4,
 "nbformat_minor": 5
}
