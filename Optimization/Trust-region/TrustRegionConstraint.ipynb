{
 "cells": [
  {
   "cell_type": "code",
   "execution_count": 1,
   "id": "d102d406",
   "metadata": {},
   "outputs": [
    {
     "data": {
      "text/html": [
       "<style>.container { width:100% !important; }</style>"
      ],
      "text/plain": [
       "<IPython.core.display.HTML object>"
      ]
     },
     "metadata": {},
     "output_type": "display_data"
    }
   ],
   "source": [
    "from IPython.display import display, HTML\n",
    "display(HTML(\"<style>.container { width:100% !important; }</style>\"))\n",
    "\n",
    "from src.trust_region_sqp import TrustRegionSQPFilter\n",
    "import numpy as np\n",
    "import casadi as ca\n"
   ]
  },
  {
   "cell_type": "code",
   "execution_count": 2,
   "id": "ab47ddff",
   "metadata": {},
   "outputs": [],
   "source": [
    "## Constants\n",
    "\n",
    "constants = dict()\n",
    "constants[\"gamma_0\"] = 0.1\n",
    "constants[\"gamma_1\"] = 0.5\n",
    "constants[\"gamma_2\"] = 2.0\n",
    "constants[\"eta_1\"] = 1E-4 \n",
    "constants[\"eta_2\"] = 0.9\n",
    "constants[\"mu\"] = 0.01\n",
    "constants[\"gamma_vartheta\"] = 1E-4 \n",
    "constants[\"kappa_vartheta\"] = 1E-4\n",
    "constants[\"kappa_radius\"] = 0.7\n",
    "constants[\"kappa_mu\"] = 100\n",
    "constants[\"kappa_tmd\"] = 0.01\n",
    "\n",
    "constants[\"init_radius\"] = 1.\n",
    "constants[\"L_threshold\"] = 1.2\n",
    "\n",
    "dataset = np.array([[0.0, 0.0], [1.0, 0.0], [0.0, 1.0], [-1.0, 0.0], [1.0, 1.0]], dtype=np.float32).T + np.array([[1.8], [2.2]], dtype=np.float32)\n",
    "\n",
    "def cf(x:np.ndarray) -> np.ndarray: # Rosenbrock function: OF\n",
    "    return 1*(x[1]-x[0]**2)**2+((x[0]-1)**2)/100\n",
    "\n",
    "def eq_constraint(x:np.ndarray) -> np.ndarray: # equality constraints\n",
    "    return x[1] - x[0]\n",
    "\n",
    "def ineq_constraint(x:np.ndarray) -> np.ndarray: # inequality constraints\n",
    "    return x[1] + x[0]"
   ]
  },
  {
   "cell_type": "code",
   "execution_count": 3,
   "id": "e8180041",
   "metadata": {
    "scrolled": true
   },
   "outputs": [
    {
     "name": "stdout",
     "output_type": "stream",
     "text": [
      "=================0=================\n",
      "poisedness = 2.1504879982195817\n",
      "We have to fix the model\n"
     ]
    },
    {
     "ename": "NameError",
     "evalue": "name 'asdfasdfsa' is not defined",
     "output_type": "error",
     "traceback": [
      "\u001b[0;31m---------------------------------------------------------------------------\u001b[0m",
      "\u001b[0;31mNameError\u001b[0m                                 Traceback (most recent call last)",
      "Cell \u001b[0;32mIn [3], line 7\u001b[0m\n\u001b[1;32m      1\u001b[0m tr \u001b[38;5;241m=\u001b[39m TrustRegionSQPFilter(constants \u001b[38;5;241m=\u001b[39m constants, \n\u001b[1;32m      2\u001b[0m                           dataset \u001b[38;5;241m=\u001b[39m dataset, \n\u001b[1;32m      3\u001b[0m                           cf \u001b[38;5;241m=\u001b[39m cf, \n\u001b[1;32m      4\u001b[0m                           eqcs \u001b[38;5;241m=\u001b[39m [eq_constraint], \n\u001b[1;32m      5\u001b[0m                           ineqcs \u001b[38;5;241m=\u001b[39m [ineq_constraint])\n\u001b[0;32m----> 7\u001b[0m \u001b[43mtr\u001b[49m\u001b[38;5;241;43m.\u001b[39;49m\u001b[43mrun\u001b[49m\u001b[43m(\u001b[49m\u001b[43m)\u001b[49m\n",
      "File \u001b[0;32m~/GitRepositories/Playground/Optimization/Trust-region/src/trust_region_sqp.py:213\u001b[0m, in \u001b[0;36mTrustRegionSQPFilter.run\u001b[0;34m(self, max_iter)\u001b[0m\n\u001b[1;32m    211\u001b[0m \u001b[38;5;28mprint\u001b[39m(\u001b[38;5;124mf\u001b[39m\u001b[38;5;124m\"\u001b[39m\u001b[38;5;124mWe have to fix the model\u001b[39m\u001b[38;5;124m\"\u001b[39m)\n\u001b[1;32m    212\u001b[0m sg \u001b[38;5;241m=\u001b[39m SetGeometry(input_symbols\u001b[38;5;241m=\u001b[39m\u001b[38;5;28mself\u001b[39m\u001b[38;5;241m.\u001b[39minput_symbols, Y\u001b[38;5;241m=\u001b[39mY, rad\u001b[38;5;241m=\u001b[39mradius, L\u001b[38;5;241m=\u001b[39m\u001b[38;5;28mself\u001b[39m\u001b[38;5;241m.\u001b[39mconstants[\u001b[38;5;124m'\u001b[39m\u001b[38;5;124mL_threshold\u001b[39m\u001b[38;5;124m'\u001b[39m])\n\u001b[0;32m--> 213\u001b[0m \u001b[43msg\u001b[49m\u001b[38;5;241;43m.\u001b[39;49m\u001b[43mimprove_geometry\u001b[49m\u001b[43m(\u001b[49m\u001b[43m)\u001b[49m        \n\u001b[1;32m    214\u001b[0m improved_model \u001b[38;5;241m=\u001b[39m sg\u001b[38;5;241m.\u001b[39mmodel\n\u001b[1;32m    215\u001b[0m \u001b[38;5;28mself\u001b[39m\u001b[38;5;241m.\u001b[39mmodels \u001b[38;5;241m=\u001b[39m \u001b[38;5;28mself\u001b[39m\u001b[38;5;241m.\u001b[39mrun_simulations(Y\u001b[38;5;241m=\u001b[39mimproved_model\u001b[38;5;241m.\u001b[39my)\n",
      "File \u001b[0;32m~/GitRepositories/Playground/Optimization/Trust-region/src/utils/model_manager.py:30\u001b[0m, in \u001b[0;36mSetGeometry.improve_geometry\u001b[0;34m(self)\u001b[0m\n\u001b[1;32m     27\u001b[0m \u001b[38;5;28;01mdef\u001b[39;00m \u001b[38;5;21mimprove_geometry\u001b[39m(\u001b[38;5;28mself\u001b[39m): \n\u001b[1;32m     29\u001b[0m     mi \u001b[38;5;241m=\u001b[39m ModelImprovement(input_symbols\u001b[38;5;241m=\u001b[39m\u001b[38;5;28mself\u001b[39m\u001b[38;5;241m.\u001b[39minput_symbols)\n\u001b[0;32m---> 30\u001b[0m     \u001b[38;5;28mself\u001b[39m\u001b[38;5;241m.\u001b[39mmodel \u001b[38;5;241m=\u001b[39m \u001b[43mmi\u001b[49m\u001b[38;5;241;43m.\u001b[39;49m\u001b[43mimprove_model\u001b[49m\u001b[43m(\u001b[49m\u001b[43mlpolynomials\u001b[49m\u001b[38;5;241;43m=\u001b[39;49m\u001b[38;5;28;43mself\u001b[39;49m\u001b[38;5;241;43m.\u001b[39;49m\u001b[43mmodel\u001b[49m\u001b[43m,\u001b[49m\u001b[43m \u001b[49m\n\u001b[1;32m     31\u001b[0m \u001b[43m                                    \u001b[49m\u001b[43mrad\u001b[49m\u001b[38;5;241;43m=\u001b[39;49m\u001b[38;5;28;43mself\u001b[39;49m\u001b[38;5;241;43m.\u001b[39;49m\u001b[43mrad\u001b[49m\u001b[43m,\u001b[49m\u001b[43m \u001b[49m\n\u001b[1;32m     32\u001b[0m \u001b[43m                                    \u001b[49m\u001b[43mcenter\u001b[49m\u001b[38;5;241;43m=\u001b[39;49m\u001b[38;5;28;43mself\u001b[39;49m\u001b[38;5;241;43m.\u001b[39;49m\u001b[43mY\u001b[49m\u001b[43m[\u001b[49m\u001b[43m:\u001b[49m\u001b[43m,\u001b[49m\u001b[38;5;241;43m0\u001b[39;49m\u001b[43m]\u001b[49m\u001b[43m,\u001b[49m\n\u001b[1;32m     33\u001b[0m \u001b[43m                                    \u001b[49m\u001b[43mL\u001b[49m\u001b[38;5;241;43m=\u001b[39;49m\u001b[38;5;28;43mself\u001b[39;49m\u001b[38;5;241;43m.\u001b[39;49m\u001b[43mL\u001b[49m\u001b[43m,\u001b[49m\u001b[43m \u001b[49m\n\u001b[1;32m     34\u001b[0m \u001b[43m                                    \u001b[49m\u001b[43mmax_iter\u001b[49m\u001b[38;5;241;43m=\u001b[39;49m\u001b[38;5;241;43m15\u001b[39;49m\u001b[43m)\u001b[49m\n",
      "File \u001b[0;32m~/GitRepositories/Playground/Optimization/Trust-region/src/utils/model_improvement_without_feval.py:36\u001b[0m, in \u001b[0;36mModelImprovement.improve_model\u001b[0;34m(self, lpolynomials, rad, center, L, max_iter, sort_type)\u001b[0m\n\u001b[1;32m     34\u001b[0m pindex \u001b[38;5;241m=\u001b[39m poisedness\u001b[38;5;241m.\u001b[39mindex\n\u001b[1;32m     35\u001b[0m \u001b[38;5;28;01mif\u001b[39;00m pindex \u001b[38;5;241m==\u001b[39m \u001b[38;5;241m0\u001b[39m:\n\u001b[0;32m---> 36\u001b[0m     \u001b[43masdfasdfsa\u001b[49m\n\u001b[1;32m     39\u001b[0m \u001b[38;5;28;01mif\u001b[39;00m k \u001b[38;5;241m==\u001b[39m \u001b[38;5;241m0\u001b[39m:\n\u001b[1;32m     40\u001b[0m     best_polynomial \u001b[38;5;241m=\u001b[39m lpolynomials\n",
      "\u001b[0;31mNameError\u001b[0m: name 'asdfasdfsa' is not defined"
     ]
    }
   ],
   "source": [
    "tr = TrustRegionSQPFilter(constants = constants, \n",
    "                          dataset = dataset, \n",
    "                          cf = cf, \n",
    "                          eqcs = [eq_constraint], \n",
    "                          ineqcs = [ineq_constraint])\n",
    "\n",
    "tr.run()"
   ]
  },
  {
   "cell_type": "code",
   "execution_count": null,
   "id": "e9b3a127",
   "metadata": {},
   "outputs": [],
   "source": [
    "%debug"
   ]
  },
  {
   "cell_type": "code",
   "execution_count": null,
   "id": "d72eca53",
   "metadata": {
    "scrolled": true
   },
   "outputs": [],
   "source": [
    "tr.iterates[-1]"
   ]
  },
  {
   "cell_type": "code",
   "execution_count": null,
   "id": "e9557a40",
   "metadata": {},
   "outputs": [],
   "source": [
    "tr.iterates[-2]"
   ]
  },
  {
   "cell_type": "code",
   "execution_count": null,
   "id": "8787e23c",
   "metadata": {
    "scrolled": false
   },
   "outputs": [],
   "source": [
    "import matplotlib.pyplot as plt\n",
    "X, Y = np.meshgrid(np.linspace(-3, 3, 100),\n",
    "                    np.linspace(-3, 3, 100))\n",
    "levels = [0, 0.0001, 0.001, 0.1, 1]\n",
    "\n",
    "for i in range(len(tr.iterates)):\n",
    "    \n",
    "    center = tr.iterates[i]['y_curr']\n",
    "    radius = tr.iterates[i]['radius']\n",
    "    intx = X - center[0]\n",
    "    inty = Y - center[1]\n",
    "    dist = np.sqrt(intx**2 + inty**2)\n",
    "    intindices = dist <= radius\n",
    "        \n",
    "    func = cf([X, Y])\n",
    "    \n",
    "    func_map = tr.iterates[i]['models'].m_cf.model.model_polynomial.feval.map(X.shape[0]*X.shape[1])\n",
    "    x_dm = ca.DM(X).reshape((1, X.shape[0]*X.shape[1]))\n",
    "    y_dm = ca.DM(Y).reshape((1, X.shape[0]*X.shape[1]))\n",
    "    # print(func_map, vertcat(x_dm, y_dm).shape)\n",
    "    func_dm = func_map(ca.vertcat(x_dm, y_dm))\n",
    "    func_dm = func_dm.reshape((X.shape[0], X.shape[1])).full()\n",
    "    func[intindices] = func_dm[intindices]\n",
    "        \n",
    "    circle1 = plt.Circle(center, radius, color='black', fill=False)\n",
    "    \n",
    "    fig, ax = plt.subplots(1)\n",
    "    ax.add_patch(circle1)\n",
    "    ax.contour(X, Y, func, levels)\n",
    "    x = tr.iterates[i]['Y'][0,:]\n",
    "    y = tr.iterates[i]['Y'][1,:]\n",
    "    plt.scatter(x, y, label=f\"iteration {i}\")\n",
    "    plt.scatter(x[0], y[0], label=f'Best point')\n",
    "    plt.plot([-3,3], [-3,3], 'b-', label=f\"eq constraint\")\n",
    "    plt.plot([-3,3], [3,-3], 'r--', label=f\"ineq constraint\")\n",
    "    plt.legend()\n",
    "    "
   ]
  },
  {
   "cell_type": "code",
   "execution_count": null,
   "id": "bb5a72bf",
   "metadata": {},
   "outputs": [],
   "source": [
    "\n",
    "\n",
    "\n",
    "x = [i[0] for i in tr.filter_SQP.filters]\n",
    "y = [i[1] for i in tr.filter_SQP.filters]\n",
    "plt.figure()\n",
    "plt.scatter(x[1:], y[1:])\n",
    "plt.ylabel(\"vartheta_k\")\n",
    "plt.xlabel(\"f_k\")\n"
   ]
  },
  {
   "cell_type": "code",
   "execution_count": null,
   "id": "a59ff3ce",
   "metadata": {},
   "outputs": [],
   "source": []
  }
 ],
 "metadata": {
  "kernelspec": {
   "display_name": "Python 3 (ipykernel)",
   "language": "python",
   "name": "python3"
  },
  "language_info": {
   "codemirror_mode": {
    "name": "ipython",
    "version": 3
   },
   "file_extension": ".py",
   "mimetype": "text/x-python",
   "name": "python",
   "nbconvert_exporter": "python",
   "pygments_lexer": "ipython3",
   "version": "3.8.10"
  }
 },
 "nbformat": 4,
 "nbformat_minor": 5
}
